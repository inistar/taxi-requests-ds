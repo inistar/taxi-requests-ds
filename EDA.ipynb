{
 "cells": [
  {
   "cell_type": "code",
   "execution_count": 19,
   "metadata": {},
   "outputs": [],
   "source": [
    "import pandas as pd\n",
    "import numpy as np\n",
    "\n",
    "import geopandas as gpd\n",
    "from shapely.geometry import Point\n",
    "import rtree\n",
    "import pickle\n",
    "\n",
    "import matplotlib.pyplot as plt\n",
    "\n",
    "pd.set_option('display.max_rows', 500)\n",
    "pd.set_option('display.max_columns', 500)"
   ]
  },
  {
   "cell_type": "markdown",
   "metadata": {},
   "source": [
    "## Event Listing"
   ]
  },
  {
   "cell_type": "code",
   "execution_count": 2,
   "metadata": {},
   "outputs": [],
   "source": [
    "event_list_df = pd.read_csv(\"data/NYC_Parks_Events_Listing___Event_Listing.csv\", parse_dates=True)"
   ]
  },
  {
   "cell_type": "code",
   "execution_count": 3,
   "metadata": {},
   "outputs": [
    {
     "name": "stdout",
     "output_type": "stream",
     "text": [
      "<class 'pandas.core.frame.DataFrame'>\n",
      "RangeIndex: 68689 entries, 0 to 68688\n",
      "Data columns (total 15 columns):\n",
      "event_id                68689 non-null int64\n",
      "title                   68689 non-null object\n",
      "date                    68689 non-null object\n",
      "start_time              68689 non-null object\n",
      "end_time                68689 non-null object\n",
      "location_description    13059 non-null object\n",
      "description             68685 non-null object\n",
      "snippet                 68385 non-null object\n",
      "phone                   53482 non-null object\n",
      "email                   47694 non-null object\n",
      "cost_free               68689 non-null int64\n",
      "cost_description        13807 non-null object\n",
      "must_see                68689 non-null int64\n",
      "url                     68687 non-null object\n",
      "notice                  68689 non-null int64\n",
      "dtypes: int64(4), object(11)\n",
      "memory usage: 7.9+ MB\n"
     ]
    }
   ],
   "source": [
    "event_list_df.info()"
   ]
  },
  {
   "cell_type": "code",
   "execution_count": 4,
   "metadata": {},
   "outputs": [],
   "source": [
    "event_list_df['start_time'] = pd.to_datetime(event_list_df['start_time'], format='%H:%M')"
   ]
  },
  {
   "cell_type": "code",
   "execution_count": 5,
   "metadata": {},
   "outputs": [
    {
     "data": {
      "text/html": [
       "<div>\n",
       "<style scoped>\n",
       "    .dataframe tbody tr th:only-of-type {\n",
       "        vertical-align: middle;\n",
       "    }\n",
       "\n",
       "    .dataframe tbody tr th {\n",
       "        vertical-align: top;\n",
       "    }\n",
       "\n",
       "    .dataframe thead th {\n",
       "        text-align: right;\n",
       "    }\n",
       "</style>\n",
       "<table border=\"1\" class=\"dataframe\">\n",
       "  <thead>\n",
       "    <tr style=\"text-align: right;\">\n",
       "      <th></th>\n",
       "      <th>event_id</th>\n",
       "      <th>title</th>\n",
       "      <th>date</th>\n",
       "      <th>start_time</th>\n",
       "      <th>end_time</th>\n",
       "      <th>location_description</th>\n",
       "      <th>description</th>\n",
       "      <th>snippet</th>\n",
       "      <th>phone</th>\n",
       "      <th>email</th>\n",
       "      <th>cost_free</th>\n",
       "      <th>cost_description</th>\n",
       "      <th>must_see</th>\n",
       "      <th>url</th>\n",
       "      <th>notice</th>\n",
       "    </tr>\n",
       "  </thead>\n",
       "  <tbody>\n",
       "    <tr>\n",
       "      <th>11088</th>\n",
       "      <td>79666</td>\n",
       "      <td>New Year's Eve Fireworks in Prospect Park</td>\n",
       "      <td>12/31/2013</td>\n",
       "      <td>1900-01-01 23:00:00</td>\n",
       "      <td>24:00</td>\n",
       "      <td>NaN</td>\n",
       "      <td>&lt;p&gt;\\n\\tStart the celebrations off around 11 p....</td>\n",
       "      <td>Start the celebrations off around 11 p.m. with...</td>\n",
       "      <td>NaN</td>\n",
       "      <td>NaN</td>\n",
       "      <td>1</td>\n",
       "      <td>NaN</td>\n",
       "      <td>1</td>\n",
       "      <td>new-years-eve-fireworks1</td>\n",
       "      <td>0</td>\n",
       "    </tr>\n",
       "    <tr>\n",
       "      <th>23359</th>\n",
       "      <td>102431</td>\n",
       "      <td>New Year's Eve Fireworks</td>\n",
       "      <td>12/31/2014</td>\n",
       "      <td>1900-01-01 23:00:00</td>\n",
       "      <td>24:00</td>\n",
       "      <td>NaN</td>\n",
       "      <td>&lt;p&gt;Kick off the New Year&amp;#39;s with this belov...</td>\n",
       "      <td>Kick off the New Year's with this beloved Broo...</td>\n",
       "      <td>NaN</td>\n",
       "      <td>NaN</td>\n",
       "      <td>1</td>\n",
       "      <td>NaN</td>\n",
       "      <td>1</td>\n",
       "      <td>new-years-eve-fireworks</td>\n",
       "      <td>0</td>\n",
       "    </tr>\n",
       "  </tbody>\n",
       "</table>\n",
       "</div>"
      ],
      "text/plain": [
       "       event_id                                      title        date  \\\n",
       "11088     79666  New Year's Eve Fireworks in Prospect Park  12/31/2013   \n",
       "23359    102431                   New Year's Eve Fireworks  12/31/2014   \n",
       "\n",
       "               start_time end_time location_description  \\\n",
       "11088 1900-01-01 23:00:00    24:00                  NaN   \n",
       "23359 1900-01-01 23:00:00    24:00                  NaN   \n",
       "\n",
       "                                             description  \\\n",
       "11088  <p>\\n\\tStart the celebrations off around 11 p....   \n",
       "23359  <p>Kick off the New Year&#39;s with this belov...   \n",
       "\n",
       "                                                 snippet phone email  \\\n",
       "11088  Start the celebrations off around 11 p.m. with...   NaN   NaN   \n",
       "23359  Kick off the New Year's with this beloved Broo...   NaN   NaN   \n",
       "\n",
       "       cost_free cost_description  must_see                       url  notice  \n",
       "11088          1              NaN         1  new-years-eve-fireworks1       0  \n",
       "23359          1              NaN         1   new-years-eve-fireworks       0  "
      ]
     },
     "execution_count": 5,
     "metadata": {},
     "output_type": "execute_result"
    }
   ],
   "source": [
    "event_list_df[event_list_df.end_time == '24:00']"
   ]
  },
  {
   "cell_type": "code",
   "execution_count": 6,
   "metadata": {},
   "outputs": [],
   "source": [
    "event_list_df = event_list_df.drop(event_list_df.index[23359])\n",
    "event_list_df = event_list_df.drop(event_list_df.index[11088])"
   ]
  },
  {
   "cell_type": "code",
   "execution_count": 7,
   "metadata": {},
   "outputs": [
    {
     "data": {
      "text/html": [
       "<div>\n",
       "<style scoped>\n",
       "    .dataframe tbody tr th:only-of-type {\n",
       "        vertical-align: middle;\n",
       "    }\n",
       "\n",
       "    .dataframe tbody tr th {\n",
       "        vertical-align: top;\n",
       "    }\n",
       "\n",
       "    .dataframe thead th {\n",
       "        text-align: right;\n",
       "    }\n",
       "</style>\n",
       "<table border=\"1\" class=\"dataframe\">\n",
       "  <thead>\n",
       "    <tr style=\"text-align: right;\">\n",
       "      <th></th>\n",
       "      <th>event_id</th>\n",
       "      <th>title</th>\n",
       "      <th>date</th>\n",
       "      <th>start_time</th>\n",
       "      <th>end_time</th>\n",
       "      <th>location_description</th>\n",
       "      <th>description</th>\n",
       "      <th>snippet</th>\n",
       "      <th>phone</th>\n",
       "      <th>email</th>\n",
       "      <th>cost_free</th>\n",
       "      <th>cost_description</th>\n",
       "      <th>must_see</th>\n",
       "      <th>url</th>\n",
       "      <th>notice</th>\n",
       "    </tr>\n",
       "  </thead>\n",
       "  <tbody>\n",
       "  </tbody>\n",
       "</table>\n",
       "</div>"
      ],
      "text/plain": [
       "Empty DataFrame\n",
       "Columns: [event_id, title, date, start_time, end_time, location_description, description, snippet, phone, email, cost_free, cost_description, must_see, url, notice]\n",
       "Index: []"
      ]
     },
     "execution_count": 7,
     "metadata": {},
     "output_type": "execute_result"
    }
   ],
   "source": [
    "event_list_df[event_list_df.end_time == '24:00']"
   ]
  },
  {
   "cell_type": "code",
   "execution_count": 8,
   "metadata": {},
   "outputs": [],
   "source": [
    "event_list_df['end_time'] = pd.to_datetime(event_list_df['end_time'], format='%H:%M')"
   ]
  },
  {
   "cell_type": "code",
   "execution_count": 9,
   "metadata": {},
   "outputs": [],
   "source": [
    "event_list_df['date'] = pd.to_datetime(event_list_df.date)"
   ]
  },
  {
   "cell_type": "code",
   "execution_count": 10,
   "metadata": {},
   "outputs": [],
   "source": [
    "event_list_df['is_event'] = 1"
   ]
  },
  {
   "cell_type": "code",
   "execution_count": 11,
   "metadata": {},
   "outputs": [
    {
     "data": {
      "text/plain": [
       "Timestamp('1900-01-01 15:00:00')"
      ]
     },
     "execution_count": 11,
     "metadata": {},
     "output_type": "execute_result"
    }
   ],
   "source": [
    "event_list_df.end_time[40]"
   ]
  },
  {
   "cell_type": "code",
   "execution_count": 12,
   "metadata": {},
   "outputs": [
    {
     "data": {
      "text/plain": [
       "Timestamp('1900-01-01 13:00:00')"
      ]
     },
     "execution_count": 12,
     "metadata": {},
     "output_type": "execute_result"
    }
   ],
   "source": [
    "event_list_df.start_time[40]"
   ]
  },
  {
   "cell_type": "code",
   "execution_count": 13,
   "metadata": {},
   "outputs": [],
   "source": [
    "event_list_df['event_duration'] = ((event_list_df.end_time-event_list_df.start_time).dt.total_seconds())/60"
   ]
  },
  {
   "cell_type": "code",
   "execution_count": 14,
   "metadata": {},
   "outputs": [
    {
     "data": {
      "text/plain": [
       "'11'"
      ]
     },
     "execution_count": 14,
     "metadata": {},
     "output_type": "execute_result"
    }
   ],
   "source": [
    "str(event_list_df.start_time.dt.time[0]).split(\":\")[0]"
   ]
  },
  {
   "cell_type": "code",
   "execution_count": 16,
   "metadata": {},
   "outputs": [],
   "source": [
    "for index, event in event_list_df.iterrows():\n",
    "    start = int(str(event_list_df.start_time.dt.time[index]).split(\":\")[0])\n",
    "    end = int(str(event_list_df.end_time.dt.time[index]).split(\":\")[0])\n",
    "    \n",
    "    if(((start >= 3) & (start < 13)) | ((end >= 3) & (end < 13))):\n",
    "        event_list_df.loc[[index],'morning'] = 1\n",
    "    else:\n",
    "        event_list_df.loc[[index],'morning'] = 0\n",
    "        \n",
    "    if(((start >= 13) & (start < 18)) | ((end >= 13) & (end < 18))):\n",
    "        event_list_df.loc[[index],'afternoon'] = 1\n",
    "    else:\n",
    "        event_list_df.loc[[index],'afternoon'] = 0\n",
    "        \n",
    "    if(((start >= 18) & (start < 3)) | ((end >= 18) & (end < 3))):\n",
    "        event_list_df.loc[[index],'night'] = 1\n",
    "    else:\n",
    "        event_list_df.loc[[index],'night'] = 0"
   ]
  },
  {
   "cell_type": "code",
   "execution_count": 20,
   "metadata": {},
   "outputs": [],
   "source": [
    "f = open('storage/event_list_df.pckl', 'wb')\n",
    "pickle.dump(event_list_df, f)\n",
    "f.close()"
   ]
  },
  {
   "cell_type": "code",
   "execution_count": 22,
   "metadata": {},
   "outputs": [],
   "source": [
    "f = open('storage/event_list_df.pckl', 'rb')\n",
    "event_list_df = pickle.load(f)\n",
    "f.close()"
   ]
  },
  {
   "cell_type": "code",
   "execution_count": 23,
   "metadata": {},
   "outputs": [],
   "source": [
    "agg_df = event_list_df[event_list_df.date.dt.year == 2017]"
   ]
  },
  {
   "cell_type": "code",
   "execution_count": null,
   "metadata": {},
   "outputs": [],
   "source": []
  },
  {
   "cell_type": "code",
   "execution_count": null,
   "metadata": {},
   "outputs": [],
   "source": []
  },
  {
   "cell_type": "code",
   "execution_count": null,
   "metadata": {},
   "outputs": [],
   "source": []
  },
  {
   "cell_type": "code",
   "execution_count": null,
   "metadata": {},
   "outputs": [],
   "source": []
  },
  {
   "cell_type": "code",
   "execution_count": 24,
   "metadata": {},
   "outputs": [
    {
     "data": {
      "text/html": [
       "<div>\n",
       "<style scoped>\n",
       "    .dataframe tbody tr th:only-of-type {\n",
       "        vertical-align: middle;\n",
       "    }\n",
       "\n",
       "    .dataframe tbody tr th {\n",
       "        vertical-align: top;\n",
       "    }\n",
       "\n",
       "    .dataframe thead th {\n",
       "        text-align: right;\n",
       "    }\n",
       "</style>\n",
       "<table border=\"1\" class=\"dataframe\">\n",
       "  <thead>\n",
       "    <tr style=\"text-align: right;\">\n",
       "      <th></th>\n",
       "      <th>event_id</th>\n",
       "      <th>title</th>\n",
       "      <th>date</th>\n",
       "      <th>start_time</th>\n",
       "      <th>end_time</th>\n",
       "      <th>location_description</th>\n",
       "      <th>description</th>\n",
       "      <th>snippet</th>\n",
       "      <th>phone</th>\n",
       "      <th>email</th>\n",
       "      <th>cost_free</th>\n",
       "      <th>cost_description</th>\n",
       "      <th>must_see</th>\n",
       "      <th>url</th>\n",
       "      <th>notice</th>\n",
       "      <th>is_event</th>\n",
       "      <th>event_duration</th>\n",
       "      <th>morning</th>\n",
       "      <th>afternoon</th>\n",
       "      <th>night</th>\n",
       "    </tr>\n",
       "  </thead>\n",
       "  <tbody>\n",
       "    <tr>\n",
       "      <th>26877</th>\n",
       "      <td>107941</td>\n",
       "      <td>Conference House Art Expo 2017</td>\n",
       "      <td>2017-05-20</td>\n",
       "      <td>1900-01-01 11:00:00</td>\n",
       "      <td>1900-01-01 17:00:00</td>\n",
       "      <td>NaN</td>\n",
       "      <td>&lt;p&gt;Come view original artworks and tree instal...</td>\n",
       "      <td>Come view original artworks and tree installat...</td>\n",
       "      <td>(718) 984-6046</td>\n",
       "      <td>admin@conferencehouse.org</td>\n",
       "      <td>1</td>\n",
       "      <td>NaN</td>\n",
       "      <td>0</td>\n",
       "      <td>resiliency-and-elements</td>\n",
       "      <td>0</td>\n",
       "      <td>1</td>\n",
       "      <td>360.0</td>\n",
       "      <td>1.0</td>\n",
       "      <td>1.0</td>\n",
       "      <td>0.0</td>\n",
       "    </tr>\n",
       "    <tr>\n",
       "      <th>27651</th>\n",
       "      <td>108867</td>\n",
       "      <td>Thursday Evening Hours at the Merchant’s House...</td>\n",
       "      <td>2017-01-05</td>\n",
       "      <td>1900-01-01 12:00:00</td>\n",
       "      <td>1900-01-01 20:00:00</td>\n",
       "      <td>NaN</td>\n",
       "      <td>&lt;p&gt;Beginning May 7, 2015, the Merchant’s House...</td>\n",
       "      <td>Beginning May 7, 2015, the Merchant’s House Mu...</td>\n",
       "      <td>(212) 777-1089</td>\n",
       "      <td>emily@merchantshouse.org</td>\n",
       "      <td>0</td>\n",
       "      <td>Admission is $10, $5 seniors &amp; students, Free ...</td>\n",
       "      <td>0</td>\n",
       "      <td>thursday-evening-hours-at-the-merchants-house-...</td>\n",
       "      <td>0</td>\n",
       "      <td>1</td>\n",
       "      <td>480.0</td>\n",
       "      <td>1.0</td>\n",
       "      <td>0.0</td>\n",
       "      <td>0.0</td>\n",
       "    </tr>\n",
       "    <tr>\n",
       "      <th>27652</th>\n",
       "      <td>108868</td>\n",
       "      <td>Thursday Evening Hours at the Merchant’s House...</td>\n",
       "      <td>2017-01-12</td>\n",
       "      <td>1900-01-01 12:00:00</td>\n",
       "      <td>1900-01-01 20:00:00</td>\n",
       "      <td>NaN</td>\n",
       "      <td>&lt;p&gt;Beginning May 7, 2015, the Merchant’s House...</td>\n",
       "      <td>Beginning May 7, 2015, the Merchant’s House Mu...</td>\n",
       "      <td>(212) 777-1089</td>\n",
       "      <td>emily@merchantshouse.org</td>\n",
       "      <td>0</td>\n",
       "      <td>Admission is $10, $5 seniors &amp; students, Free ...</td>\n",
       "      <td>0</td>\n",
       "      <td>thursday-evening-hours-at-the-merchants-house-...</td>\n",
       "      <td>0</td>\n",
       "      <td>1</td>\n",
       "      <td>480.0</td>\n",
       "      <td>1.0</td>\n",
       "      <td>0.0</td>\n",
       "      <td>0.0</td>\n",
       "    </tr>\n",
       "    <tr>\n",
       "      <th>27653</th>\n",
       "      <td>108869</td>\n",
       "      <td>Thursday Evening Hours at the Merchant’s House...</td>\n",
       "      <td>2017-01-19</td>\n",
       "      <td>1900-01-01 12:00:00</td>\n",
       "      <td>1900-01-01 20:00:00</td>\n",
       "      <td>NaN</td>\n",
       "      <td>&lt;p&gt;Beginning May 7, 2015, the Merchant’s House...</td>\n",
       "      <td>Beginning May 7, 2015, the Merchant’s House Mu...</td>\n",
       "      <td>(212) 777-1089</td>\n",
       "      <td>emily@merchantshouse.org</td>\n",
       "      <td>0</td>\n",
       "      <td>Admission is $10, $5 seniors &amp; students, Free ...</td>\n",
       "      <td>0</td>\n",
       "      <td>thursday-evening-hours-at-the-merchants-house-...</td>\n",
       "      <td>0</td>\n",
       "      <td>1</td>\n",
       "      <td>480.0</td>\n",
       "      <td>1.0</td>\n",
       "      <td>0.0</td>\n",
       "      <td>0.0</td>\n",
       "    </tr>\n",
       "    <tr>\n",
       "      <th>27654</th>\n",
       "      <td>108870</td>\n",
       "      <td>Thursday Evening Hours at the Merchant’s House...</td>\n",
       "      <td>2017-01-26</td>\n",
       "      <td>1900-01-01 12:00:00</td>\n",
       "      <td>1900-01-01 20:00:00</td>\n",
       "      <td>NaN</td>\n",
       "      <td>&lt;p&gt;Beginning May 7, 2015, the Merchant’s House...</td>\n",
       "      <td>Beginning May 7, 2015, the Merchant’s House Mu...</td>\n",
       "      <td>(212) 777-1089</td>\n",
       "      <td>emily@merchantshouse.org</td>\n",
       "      <td>0</td>\n",
       "      <td>Admission is $10, $5 seniors &amp; students, Free ...</td>\n",
       "      <td>0</td>\n",
       "      <td>thursday-evening-hours-at-the-merchants-house-...</td>\n",
       "      <td>0</td>\n",
       "      <td>1</td>\n",
       "      <td>480.0</td>\n",
       "      <td>1.0</td>\n",
       "      <td>0.0</td>\n",
       "      <td>0.0</td>\n",
       "    </tr>\n",
       "  </tbody>\n",
       "</table>\n",
       "</div>"
      ],
      "text/plain": [
       "       event_id                                              title       date  \\\n",
       "26877    107941                     Conference House Art Expo 2017 2017-05-20   \n",
       "27651    108867  Thursday Evening Hours at the Merchant’s House... 2017-01-05   \n",
       "27652    108868  Thursday Evening Hours at the Merchant’s House... 2017-01-12   \n",
       "27653    108869  Thursday Evening Hours at the Merchant’s House... 2017-01-19   \n",
       "27654    108870  Thursday Evening Hours at the Merchant’s House... 2017-01-26   \n",
       "\n",
       "               start_time            end_time location_description  \\\n",
       "26877 1900-01-01 11:00:00 1900-01-01 17:00:00                  NaN   \n",
       "27651 1900-01-01 12:00:00 1900-01-01 20:00:00                  NaN   \n",
       "27652 1900-01-01 12:00:00 1900-01-01 20:00:00                  NaN   \n",
       "27653 1900-01-01 12:00:00 1900-01-01 20:00:00                  NaN   \n",
       "27654 1900-01-01 12:00:00 1900-01-01 20:00:00                  NaN   \n",
       "\n",
       "                                             description  \\\n",
       "26877  <p>Come view original artworks and tree instal...   \n",
       "27651  <p>Beginning May 7, 2015, the Merchant’s House...   \n",
       "27652  <p>Beginning May 7, 2015, the Merchant’s House...   \n",
       "27653  <p>Beginning May 7, 2015, the Merchant’s House...   \n",
       "27654  <p>Beginning May 7, 2015, the Merchant’s House...   \n",
       "\n",
       "                                                 snippet           phone  \\\n",
       "26877  Come view original artworks and tree installat...  (718) 984-6046   \n",
       "27651  Beginning May 7, 2015, the Merchant’s House Mu...  (212) 777-1089   \n",
       "27652  Beginning May 7, 2015, the Merchant’s House Mu...  (212) 777-1089   \n",
       "27653  Beginning May 7, 2015, the Merchant’s House Mu...  (212) 777-1089   \n",
       "27654  Beginning May 7, 2015, the Merchant’s House Mu...  (212) 777-1089   \n",
       "\n",
       "                           email  cost_free  \\\n",
       "26877  admin@conferencehouse.org          1   \n",
       "27651   emily@merchantshouse.org          0   \n",
       "27652   emily@merchantshouse.org          0   \n",
       "27653   emily@merchantshouse.org          0   \n",
       "27654   emily@merchantshouse.org          0   \n",
       "\n",
       "                                        cost_description  must_see  \\\n",
       "26877                                                NaN         0   \n",
       "27651  Admission is $10, $5 seniors & students, Free ...         0   \n",
       "27652  Admission is $10, $5 seniors & students, Free ...         0   \n",
       "27653  Admission is $10, $5 seniors & students, Free ...         0   \n",
       "27654  Admission is $10, $5 seniors & students, Free ...         0   \n",
       "\n",
       "                                                     url  notice  is_event  \\\n",
       "26877                            resiliency-and-elements       0         1   \n",
       "27651  thursday-evening-hours-at-the-merchants-house-...       0         1   \n",
       "27652  thursday-evening-hours-at-the-merchants-house-...       0         1   \n",
       "27653  thursday-evening-hours-at-the-merchants-house-...       0         1   \n",
       "27654  thursday-evening-hours-at-the-merchants-house-...       0         1   \n",
       "\n",
       "       event_duration  morning  afternoon  night  \n",
       "26877           360.0      1.0        1.0    0.0  \n",
       "27651           480.0      1.0        0.0    0.0  \n",
       "27652           480.0      1.0        0.0    0.0  \n",
       "27653           480.0      1.0        0.0    0.0  \n",
       "27654           480.0      1.0        0.0    0.0  "
      ]
     },
     "execution_count": 24,
     "metadata": {},
     "output_type": "execute_result"
    }
   ],
   "source": [
    "agg_df.head()"
   ]
  },
  {
   "cell_type": "code",
   "execution_count": null,
   "metadata": {},
   "outputs": [],
   "source": [
    "plt.hist(agg_df.event_duration, bins=50);"
   ]
  },
  {
   "cell_type": "code",
   "execution_count": null,
   "metadata": {},
   "outputs": [],
   "source": [
    "plt.plot(agg_df.event_id);"
   ]
  },
  {
   "cell_type": "markdown",
   "metadata": {},
   "source": [
    "## Event Location"
   ]
  },
  {
   "cell_type": "code",
   "execution_count": null,
   "metadata": {},
   "outputs": [],
   "source": [
    "loc_df = pd.read_csv('data/NYC_Parks_Events_Listing___Event_Locations.csv')"
   ]
  },
  {
   "cell_type": "code",
   "execution_count": null,
   "metadata": {},
   "outputs": [],
   "source": [
    "loc_df.head()"
   ]
  },
  {
   "cell_type": "code",
   "execution_count": null,
   "metadata": {},
   "outputs": [],
   "source": [
    "loc_df.shape"
   ]
  },
  {
   "cell_type": "code",
   "execution_count": null,
   "metadata": {},
   "outputs": [],
   "source": [
    "plt.plot(loc_df.event_id)"
   ]
  },
  {
   "cell_type": "code",
   "execution_count": null,
   "metadata": {},
   "outputs": [],
   "source": [
    "loc_df[loc_df.event_id == 141581]"
   ]
  },
  {
   "cell_type": "code",
   "execution_count": null,
   "metadata": {},
   "outputs": [],
   "source": [
    "loc_df[loc_df.event_id == 62223]"
   ]
  },
  {
   "cell_type": "code",
   "execution_count": null,
   "metadata": {},
   "outputs": [],
   "source": [
    "plt.scatter(loc_df.lat, loc_df.long)"
   ]
  },
  {
   "cell_type": "markdown",
   "metadata": {},
   "source": [
    "https://towardsdatascience.com/geospatial-operations-at-scale-with-dask-and-geopandas-4d92d00eb7e8"
   ]
  },
  {
   "cell_type": "code",
   "execution_count": null,
   "metadata": {},
   "outputs": [],
   "source": [
    "df = gpd.read_file('data/taxizones/taxi_zones.shp').to_crs({'init': 'epsg:4326'})\n",
    "df = df.drop(['Shape_Area', 'Shape_Leng', 'OBJECTID'], axis=1)\n",
    "gpd.sjoin(gpd.GeoDataFrame(crs={'init': 'epsg:4326'},\n",
    "    geometry=[Point(-73.9431, 40.776001)]), \n",
    "    df, how='left', op='within')"
   ]
  },
  {
   "cell_type": "code",
   "execution_count": null,
   "metadata": {},
   "outputs": [],
   "source": [
    "def assign_taxi_zones(df, lon_var, lat_var, locid_var):\n",
    "    \"\"\"Joins DataFrame with Taxi Zones shapefile.\n",
    "    This function takes longitude values provided by `lon_var`, and latitude\n",
    "    values provided by `lat_var` in DataFrame `df`, and performs a spatial join\n",
    "    with the NYC taxi_zones shapefile. \n",
    "    The shapefile is hard coded in, as this function makes a hard assumption of\n",
    "    latitude and longitude coordinates. It also assumes latitude=0 and \n",
    "    longitude=0 is not a datapoint that can exist in your dataset. Which is \n",
    "    reasonable for a dataset of New York, but bad for a global dataset.\n",
    "    Only rows where `df.lon_var`, `df.lat_var` are reasonably near New York,\n",
    "    and `df.locid_var` is set to np.nan are updated. \n",
    "    Parameters\n",
    "    ----------\n",
    "    df : pandas.DataFrame or dask.DataFrame\n",
    "        DataFrame containing latitudes, longitudes, and location_id columns.\n",
    "    lon_var : string\n",
    "        Name of column in `df` containing longitude values. Invalid values \n",
    "        should be np.nan.\n",
    "    lat_var : string\n",
    "        Name of column in `df` containing latitude values. Invalid values \n",
    "        should be np.nan\n",
    "    locid_var : string\n",
    "        Name of series to return. \n",
    "    \"\"\"\n",
    "\n",
    "    import geopandas\n",
    "    from shapely.geometry import Point\n",
    "\n",
    "\n",
    "    # make a copy since we will modify lats and lons\n",
    "    localdf = df[[lon_var, lat_var]].copy()\n",
    "    \n",
    "    # missing lat lon info is indicated by nan. Fill with zero\n",
    "    # which is outside New York shapefile. \n",
    "    localdf[lon_var] = localdf[lon_var].fillna(value=0.)\n",
    "    localdf[lat_var] = localdf[lat_var].fillna(value=0.)\n",
    "    \n",
    "\n",
    "    shape_df = geopandas.read_file('data/taxizones/taxi_zones.shp')\n",
    "    shape_df.drop(['OBJECTID', \"Shape_Area\", \"Shape_Leng\", \"borough\", \"zone\"],\n",
    "                  axis=1, inplace=True)\n",
    "    shape_df = shape_df.to_crs({'init': 'epsg:4326'})\n",
    "\n",
    "    try:\n",
    "        local_gdf = geopandas.GeoDataFrame(\n",
    "            localdf, crs={'init': 'epsg:4326'},\n",
    "            geometry=[Point(xy) for xy in\n",
    "                      zip(localdf[lon_var], localdf[lat_var])])\n",
    "\n",
    "        local_gdf = geopandas.sjoin(\n",
    "            local_gdf, shape_df, how='left', op='within')\n",
    "#         return local_gdf\n",
    "        return local_gdf.LocationID.rename(locid_var)\n",
    "    except ValueError as ve:\n",
    "        print(ve)\n",
    "        print(ve.stacktrace())\n",
    "        series = localdf[lon_var]\n",
    "        series = np.nan\n",
    "    return series"
   ]
  },
  {
   "cell_type": "code",
   "execution_count": null,
   "metadata": {},
   "outputs": [],
   "source": [
    "loc_df['taxi_zone'] = assign_taxi_zones(loc_df, 'long', 'lat', 'taxi_zones')"
   ]
  },
  {
   "cell_type": "code",
   "execution_count": null,
   "metadata": {},
   "outputs": [],
   "source": [
    "loc_df[loc_df.taxi_zone == np.inf]"
   ]
  },
  {
   "cell_type": "code",
   "execution_count": null,
   "metadata": {},
   "outputs": [],
   "source": [
    "loc_df['taxi_zone'] = loc_df.taxi_zone.fillna(0).astype(int)"
   ]
  },
  {
   "cell_type": "code",
   "execution_count": null,
   "metadata": {},
   "outputs": [],
   "source": [
    "loc_df.head()"
   ]
  },
  {
   "cell_type": "markdown",
   "metadata": {},
   "source": [
    "## Merge Event and Event Locations and Taxi"
   ]
  },
  {
   "cell_type": "code",
   "execution_count": null,
   "metadata": {},
   "outputs": [],
   "source": [
    "merged_df = pd.merge(agg_df, loc_df, on=['event_id'])"
   ]
  },
  {
   "cell_type": "code",
   "execution_count": null,
   "metadata": {},
   "outputs": [],
   "source": [
    "merged_df.head()"
   ]
  },
  {
   "cell_type": "code",
   "execution_count": null,
   "metadata": {},
   "outputs": [],
   "source": [
    "merged_df['date'] = pd.to_datetime(merged_df.date).dt.date"
   ]
  },
  {
   "cell_type": "code",
   "execution_count": null,
   "metadata": {},
   "outputs": [],
   "source": [
    "merged_df.info()"
   ]
  },
  {
   "cell_type": "code",
   "execution_count": null,
   "metadata": {},
   "outputs": [],
   "source": [
    "data = merged_df.merge(taxi_df, on=['date', 'taxi_zone'], how='right')"
   ]
  },
  {
   "cell_type": "code",
   "execution_count": null,
   "metadata": {},
   "outputs": [],
   "source": [
    "data.isnull().sum()"
   ]
  },
  {
   "cell_type": "code",
   "execution_count": null,
   "metadata": {},
   "outputs": [],
   "source": [
    "data.is_event.isnull().sum()"
   ]
  },
  {
   "cell_type": "code",
   "execution_count": null,
   "metadata": {},
   "outputs": [],
   "source": [
    "data['is_event'] = data.is_event.fillna(0)"
   ]
  },
  {
   "cell_type": "code",
   "execution_count": null,
   "metadata": {},
   "outputs": [],
   "source": [
    "data.head()"
   ]
  },
  {
   "cell_type": "code",
   "execution_count": null,
   "metadata": {},
   "outputs": [],
   "source": [
    "# data.groupby(['date', 'taxi_zone', 'is_event'])[['trip_distance']].mean()"
   ]
  },
  {
   "cell_type": "code",
   "execution_count": null,
   "metadata": {},
   "outputs": [],
   "source": [
    "# data.groupby(['date', 'taxi_zone']).count()"
   ]
  },
  {
   "cell_type": "code",
   "execution_count": null,
   "metadata": {},
   "outputs": [],
   "source": [
    "data.groupby(['is_event', 'taxi_zone'])[['VendorID']].count()"
   ]
  },
  {
   "cell_type": "code",
   "execution_count": null,
   "metadata": {},
   "outputs": [],
   "source": []
  },
  {
   "cell_type": "code",
   "execution_count": null,
   "metadata": {},
   "outputs": [],
   "source": []
  },
  {
   "cell_type": "code",
   "execution_count": null,
   "metadata": {},
   "outputs": [],
   "source": []
  },
  {
   "cell_type": "code",
   "execution_count": null,
   "metadata": {},
   "outputs": [],
   "source": []
  },
  {
   "cell_type": "code",
   "execution_count": null,
   "metadata": {},
   "outputs": [],
   "source": [
    "# map_df = gpd.read_file('data/newyorkzonemap/geo_export_83da3a04-bfe1-4338-bd66-aa8fff31dec0.shp')"
   ]
  },
  {
   "cell_type": "code",
   "execution_count": null,
   "metadata": {},
   "outputs": [],
   "source": [
    "# map_df.plot()"
   ]
  },
  {
   "cell_type": "markdown",
   "metadata": {},
   "source": []
  },
  {
   "cell_type": "code",
   "execution_count": null,
   "metadata": {},
   "outputs": [],
   "source": []
  },
  {
   "cell_type": "code",
   "execution_count": null,
   "metadata": {},
   "outputs": [],
   "source": []
  },
  {
   "cell_type": "code",
   "execution_count": null,
   "metadata": {},
   "outputs": [],
   "source": []
  },
  {
   "cell_type": "markdown",
   "metadata": {},
   "source": [
    "## Taxi Trip Data"
   ]
  },
  {
   "cell_type": "code",
   "execution_count": null,
   "metadata": {},
   "outputs": [],
   "source": [
    "import random\n",
    "\n",
    "filename = \"data/2017_Green_Taxi_Trip_Data.csv\"\n",
    "n = sum(1 for line in open(filename)) - 1 #number of records in file (excludes header)\n",
    "s = 10000 #desired sample size\n",
    "skip = sorted(random.sample(range(1,n+1),n-s)) #the 0-indexed header will not be included in the skip list\n",
    "taxi_df = pd.read_csv(filename, skiprows=skip)"
   ]
  },
  {
   "cell_type": "code",
   "execution_count": null,
   "metadata": {},
   "outputs": [],
   "source": [
    "# taxi_df = pd.read_csv('2017_Green_Taxi_Trip_Data.csv', nrows=10000)"
   ]
  },
  {
   "cell_type": "code",
   "execution_count": null,
   "metadata": {},
   "outputs": [],
   "source": [
    "taxi_df.info()"
   ]
  },
  {
   "cell_type": "code",
   "execution_count": null,
   "metadata": {},
   "outputs": [],
   "source": [
    "taxi_df.head()"
   ]
  },
  {
   "cell_type": "code",
   "execution_count": null,
   "metadata": {},
   "outputs": [],
   "source": [
    "taxi_df['lpep_pickup_datetime'] = pd.to_datetime(taxi_df.lpep_pickup_datetime)"
   ]
  },
  {
   "cell_type": "code",
   "execution_count": null,
   "metadata": {},
   "outputs": [],
   "source": [
    "taxi_df['lpep_dropoff_datetime'] = pd.to_datetime(taxi_df.lpep_dropoff_datetime)"
   ]
  },
  {
   "cell_type": "code",
   "execution_count": null,
   "metadata": {},
   "outputs": [],
   "source": [
    "taxi_df['date'] = taxi_df.lpep_pickup_datetime.dt.date"
   ]
  },
  {
   "cell_type": "code",
   "execution_count": null,
   "metadata": {},
   "outputs": [],
   "source": [
    "taxi_df['taxi_duration'] = ((taxi_df.lpep_dropoff_datetime - taxi_df.lpep_pickup_datetime).dt.total_seconds())//60"
   ]
  },
  {
   "cell_type": "code",
   "execution_count": null,
   "metadata": {},
   "outputs": [],
   "source": [
    "taxi_df = taxi_df.rename(columns={'DOLocationID' : 'taxi_zone'})"
   ]
  },
  {
   "cell_type": "code",
   "execution_count": null,
   "metadata": {},
   "outputs": [],
   "source": [
    "taxi_df.head()"
   ]
  },
  {
   "cell_type": "code",
   "execution_count": null,
   "metadata": {},
   "outputs": [],
   "source": [
    "taxi_df.info()"
   ]
  },
  {
   "cell_type": "code",
   "execution_count": null,
   "metadata": {},
   "outputs": [],
   "source": [
    "type(pd.to_datetime(taxi_df.date)[0])"
   ]
  },
  {
   "cell_type": "code",
   "execution_count": null,
   "metadata": {},
   "outputs": [],
   "source": []
  }
 ],
 "metadata": {
  "kernelspec": {
   "display_name": "Python 3",
   "language": "python",
   "name": "python3"
  },
  "language_info": {
   "codemirror_mode": {
    "name": "ipython",
    "version": 3
   },
   "file_extension": ".py",
   "mimetype": "text/x-python",
   "name": "python",
   "nbconvert_exporter": "python",
   "pygments_lexer": "ipython3",
   "version": "3.6.4"
  }
 },
 "nbformat": 4,
 "nbformat_minor": 2
}
