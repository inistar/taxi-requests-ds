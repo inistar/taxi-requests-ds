{
 "cells": [
  {
   "cell_type": "code",
   "execution_count": 1,
   "metadata": {},
   "outputs": [],
   "source": [
    "import pandas as pd\n",
    "import numpy as np\n",
    "\n",
    "import matplotlib.pyplot as plt\n",
    "\n",
    "pd.set_option('display.max_rows', 400)\n",
    "pd.set_option('display.max_columns', 500)"
   ]
  },
  {
   "cell_type": "code",
   "execution_count": 2,
   "metadata": {},
   "outputs": [],
   "source": [
    "# del df\n",
    "df = pd.read_csv(\"data/NYC_Parks_Events_Listing___Event_Listing.csv\", parse_dates=True)"
   ]
  },
  {
   "cell_type": "code",
   "execution_count": 3,
   "metadata": {},
   "outputs": [
    {
     "name": "stdout",
     "output_type": "stream",
     "text": [
      "<class 'pandas.core.frame.DataFrame'>\n",
      "RangeIndex: 68689 entries, 0 to 68688\n",
      "Data columns (total 15 columns):\n",
      "event_id                68689 non-null int64\n",
      "title                   68689 non-null object\n",
      "date                    68689 non-null object\n",
      "start_time              68689 non-null object\n",
      "end_time                68689 non-null object\n",
      "location_description    13059 non-null object\n",
      "description             68685 non-null object\n",
      "snippet                 68385 non-null object\n",
      "phone                   53482 non-null object\n",
      "email                   47694 non-null object\n",
      "cost_free               68689 non-null int64\n",
      "cost_description        13807 non-null object\n",
      "must_see                68689 non-null int64\n",
      "url                     68687 non-null object\n",
      "notice                  68689 non-null int64\n",
      "dtypes: int64(4), object(11)\n",
      "memory usage: 7.9+ MB\n"
     ]
    }
   ],
   "source": [
    "df.info()"
   ]
  },
  {
   "cell_type": "code",
   "execution_count": 4,
   "metadata": {},
   "outputs": [],
   "source": [
    "df['start_time'] = pd.to_datetime(df['start_time'], format='%H:%M')"
   ]
  },
  {
   "cell_type": "code",
   "execution_count": 5,
   "metadata": {},
   "outputs": [
    {
     "data": {
      "text/html": [
       "<div>\n",
       "<style scoped>\n",
       "    .dataframe tbody tr th:only-of-type {\n",
       "        vertical-align: middle;\n",
       "    }\n",
       "\n",
       "    .dataframe tbody tr th {\n",
       "        vertical-align: top;\n",
       "    }\n",
       "\n",
       "    .dataframe thead th {\n",
       "        text-align: right;\n",
       "    }\n",
       "</style>\n",
       "<table border=\"1\" class=\"dataframe\">\n",
       "  <thead>\n",
       "    <tr style=\"text-align: right;\">\n",
       "      <th></th>\n",
       "      <th>event_id</th>\n",
       "      <th>title</th>\n",
       "      <th>date</th>\n",
       "      <th>start_time</th>\n",
       "      <th>end_time</th>\n",
       "      <th>location_description</th>\n",
       "      <th>description</th>\n",
       "      <th>snippet</th>\n",
       "      <th>phone</th>\n",
       "      <th>email</th>\n",
       "      <th>cost_free</th>\n",
       "      <th>cost_description</th>\n",
       "      <th>must_see</th>\n",
       "      <th>url</th>\n",
       "      <th>notice</th>\n",
       "    </tr>\n",
       "  </thead>\n",
       "  <tbody>\n",
       "    <tr>\n",
       "      <th>11088</th>\n",
       "      <td>79666</td>\n",
       "      <td>New Year's Eve Fireworks in Prospect Park</td>\n",
       "      <td>12/31/2013</td>\n",
       "      <td>1900-01-01 23:00:00</td>\n",
       "      <td>24:00</td>\n",
       "      <td>NaN</td>\n",
       "      <td>&lt;p&gt;\\n\\tStart the celebrations off around 11 p....</td>\n",
       "      <td>Start the celebrations off around 11 p.m. with...</td>\n",
       "      <td>NaN</td>\n",
       "      <td>NaN</td>\n",
       "      <td>1</td>\n",
       "      <td>NaN</td>\n",
       "      <td>1</td>\n",
       "      <td>new-years-eve-fireworks1</td>\n",
       "      <td>0</td>\n",
       "    </tr>\n",
       "    <tr>\n",
       "      <th>23359</th>\n",
       "      <td>102431</td>\n",
       "      <td>New Year's Eve Fireworks</td>\n",
       "      <td>12/31/2014</td>\n",
       "      <td>1900-01-01 23:00:00</td>\n",
       "      <td>24:00</td>\n",
       "      <td>NaN</td>\n",
       "      <td>&lt;p&gt;Kick off the New Year&amp;#39;s with this belov...</td>\n",
       "      <td>Kick off the New Year's with this beloved Broo...</td>\n",
       "      <td>NaN</td>\n",
       "      <td>NaN</td>\n",
       "      <td>1</td>\n",
       "      <td>NaN</td>\n",
       "      <td>1</td>\n",
       "      <td>new-years-eve-fireworks</td>\n",
       "      <td>0</td>\n",
       "    </tr>\n",
       "  </tbody>\n",
       "</table>\n",
       "</div>"
      ],
      "text/plain": [
       "       event_id                                      title        date  \\\n",
       "11088     79666  New Year's Eve Fireworks in Prospect Park  12/31/2013   \n",
       "23359    102431                   New Year's Eve Fireworks  12/31/2014   \n",
       "\n",
       "               start_time end_time location_description  \\\n",
       "11088 1900-01-01 23:00:00    24:00                  NaN   \n",
       "23359 1900-01-01 23:00:00    24:00                  NaN   \n",
       "\n",
       "                                             description  \\\n",
       "11088  <p>\\n\\tStart the celebrations off around 11 p....   \n",
       "23359  <p>Kick off the New Year&#39;s with this belov...   \n",
       "\n",
       "                                                 snippet phone email  \\\n",
       "11088  Start the celebrations off around 11 p.m. with...   NaN   NaN   \n",
       "23359  Kick off the New Year's with this beloved Broo...   NaN   NaN   \n",
       "\n",
       "       cost_free cost_description  must_see                       url  notice  \n",
       "11088          1              NaN         1  new-years-eve-fireworks1       0  \n",
       "23359          1              NaN         1   new-years-eve-fireworks       0  "
      ]
     },
     "execution_count": 5,
     "metadata": {},
     "output_type": "execute_result"
    }
   ],
   "source": [
    "df[df.end_time == '24:00']"
   ]
  },
  {
   "cell_type": "code",
   "execution_count": 6,
   "metadata": {},
   "outputs": [],
   "source": [
    "df = df.drop(df.index[23359])\n",
    "df = df.drop(df.index[11088])"
   ]
  },
  {
   "cell_type": "code",
   "execution_count": 7,
   "metadata": {},
   "outputs": [
    {
     "data": {
      "text/html": [
       "<div>\n",
       "<style scoped>\n",
       "    .dataframe tbody tr th:only-of-type {\n",
       "        vertical-align: middle;\n",
       "    }\n",
       "\n",
       "    .dataframe tbody tr th {\n",
       "        vertical-align: top;\n",
       "    }\n",
       "\n",
       "    .dataframe thead th {\n",
       "        text-align: right;\n",
       "    }\n",
       "</style>\n",
       "<table border=\"1\" class=\"dataframe\">\n",
       "  <thead>\n",
       "    <tr style=\"text-align: right;\">\n",
       "      <th></th>\n",
       "      <th>event_id</th>\n",
       "      <th>title</th>\n",
       "      <th>date</th>\n",
       "      <th>start_time</th>\n",
       "      <th>end_time</th>\n",
       "      <th>location_description</th>\n",
       "      <th>description</th>\n",
       "      <th>snippet</th>\n",
       "      <th>phone</th>\n",
       "      <th>email</th>\n",
       "      <th>cost_free</th>\n",
       "      <th>cost_description</th>\n",
       "      <th>must_see</th>\n",
       "      <th>url</th>\n",
       "      <th>notice</th>\n",
       "    </tr>\n",
       "  </thead>\n",
       "  <tbody>\n",
       "  </tbody>\n",
       "</table>\n",
       "</div>"
      ],
      "text/plain": [
       "Empty DataFrame\n",
       "Columns: [event_id, title, date, start_time, end_time, location_description, description, snippet, phone, email, cost_free, cost_description, must_see, url, notice]\n",
       "Index: []"
      ]
     },
     "execution_count": 7,
     "metadata": {},
     "output_type": "execute_result"
    }
   ],
   "source": [
    "df[df.end_time == '24:00']"
   ]
  },
  {
   "cell_type": "code",
   "execution_count": 8,
   "metadata": {},
   "outputs": [],
   "source": [
    "df['end_time'] = pd.to_datetime(df['end_time'], format='%H:%M')"
   ]
  },
  {
   "cell_type": "code",
   "execution_count": 9,
   "metadata": {},
   "outputs": [],
   "source": [
    "df['date'] = pd.to_datetime(df.date)"
   ]
  },
  {
   "cell_type": "code",
   "execution_count": 10,
   "metadata": {},
   "outputs": [],
   "source": [
    "agg_df = df[df.date.dt.year == 2017]"
   ]
  },
  {
   "cell_type": "code",
   "execution_count": 11,
   "metadata": {},
   "outputs": [
    {
     "data": {
      "text/html": [
       "<div>\n",
       "<style scoped>\n",
       "    .dataframe tbody tr th:only-of-type {\n",
       "        vertical-align: middle;\n",
       "    }\n",
       "\n",
       "    .dataframe tbody tr th {\n",
       "        vertical-align: top;\n",
       "    }\n",
       "\n",
       "    .dataframe thead th {\n",
       "        text-align: right;\n",
       "    }\n",
       "</style>\n",
       "<table border=\"1\" class=\"dataframe\">\n",
       "  <thead>\n",
       "    <tr style=\"text-align: right;\">\n",
       "      <th></th>\n",
       "      <th>event_id</th>\n",
       "      <th>title</th>\n",
       "      <th>date</th>\n",
       "      <th>start_time</th>\n",
       "      <th>end_time</th>\n",
       "      <th>location_description</th>\n",
       "      <th>description</th>\n",
       "      <th>snippet</th>\n",
       "      <th>phone</th>\n",
       "      <th>email</th>\n",
       "      <th>cost_free</th>\n",
       "      <th>cost_description</th>\n",
       "      <th>must_see</th>\n",
       "      <th>url</th>\n",
       "      <th>notice</th>\n",
       "    </tr>\n",
       "  </thead>\n",
       "  <tbody>\n",
       "    <tr>\n",
       "      <th>26877</th>\n",
       "      <td>107941</td>\n",
       "      <td>Conference House Art Expo 2017</td>\n",
       "      <td>2017-05-20</td>\n",
       "      <td>1900-01-01 11:00:00</td>\n",
       "      <td>1900-01-01 17:00:00</td>\n",
       "      <td>NaN</td>\n",
       "      <td>&lt;p&gt;Come view original artworks and tree instal...</td>\n",
       "      <td>Come view original artworks and tree installat...</td>\n",
       "      <td>(718) 984-6046</td>\n",
       "      <td>admin@conferencehouse.org</td>\n",
       "      <td>1</td>\n",
       "      <td>NaN</td>\n",
       "      <td>0</td>\n",
       "      <td>resiliency-and-elements</td>\n",
       "      <td>0</td>\n",
       "    </tr>\n",
       "    <tr>\n",
       "      <th>27651</th>\n",
       "      <td>108867</td>\n",
       "      <td>Thursday Evening Hours at the Merchant’s House...</td>\n",
       "      <td>2017-01-05</td>\n",
       "      <td>1900-01-01 12:00:00</td>\n",
       "      <td>1900-01-01 20:00:00</td>\n",
       "      <td>NaN</td>\n",
       "      <td>&lt;p&gt;Beginning May 7, 2015, the Merchant’s House...</td>\n",
       "      <td>Beginning May 7, 2015, the Merchant’s House Mu...</td>\n",
       "      <td>(212) 777-1089</td>\n",
       "      <td>emily@merchantshouse.org</td>\n",
       "      <td>0</td>\n",
       "      <td>Admission is $10, $5 seniors &amp; students, Free ...</td>\n",
       "      <td>0</td>\n",
       "      <td>thursday-evening-hours-at-the-merchants-house-...</td>\n",
       "      <td>0</td>\n",
       "    </tr>\n",
       "    <tr>\n",
       "      <th>27652</th>\n",
       "      <td>108868</td>\n",
       "      <td>Thursday Evening Hours at the Merchant’s House...</td>\n",
       "      <td>2017-01-12</td>\n",
       "      <td>1900-01-01 12:00:00</td>\n",
       "      <td>1900-01-01 20:00:00</td>\n",
       "      <td>NaN</td>\n",
       "      <td>&lt;p&gt;Beginning May 7, 2015, the Merchant’s House...</td>\n",
       "      <td>Beginning May 7, 2015, the Merchant’s House Mu...</td>\n",
       "      <td>(212) 777-1089</td>\n",
       "      <td>emily@merchantshouse.org</td>\n",
       "      <td>0</td>\n",
       "      <td>Admission is $10, $5 seniors &amp; students, Free ...</td>\n",
       "      <td>0</td>\n",
       "      <td>thursday-evening-hours-at-the-merchants-house-...</td>\n",
       "      <td>0</td>\n",
       "    </tr>\n",
       "    <tr>\n",
       "      <th>27653</th>\n",
       "      <td>108869</td>\n",
       "      <td>Thursday Evening Hours at the Merchant’s House...</td>\n",
       "      <td>2017-01-19</td>\n",
       "      <td>1900-01-01 12:00:00</td>\n",
       "      <td>1900-01-01 20:00:00</td>\n",
       "      <td>NaN</td>\n",
       "      <td>&lt;p&gt;Beginning May 7, 2015, the Merchant’s House...</td>\n",
       "      <td>Beginning May 7, 2015, the Merchant’s House Mu...</td>\n",
       "      <td>(212) 777-1089</td>\n",
       "      <td>emily@merchantshouse.org</td>\n",
       "      <td>0</td>\n",
       "      <td>Admission is $10, $5 seniors &amp; students, Free ...</td>\n",
       "      <td>0</td>\n",
       "      <td>thursday-evening-hours-at-the-merchants-house-...</td>\n",
       "      <td>0</td>\n",
       "    </tr>\n",
       "    <tr>\n",
       "      <th>27654</th>\n",
       "      <td>108870</td>\n",
       "      <td>Thursday Evening Hours at the Merchant’s House...</td>\n",
       "      <td>2017-01-26</td>\n",
       "      <td>1900-01-01 12:00:00</td>\n",
       "      <td>1900-01-01 20:00:00</td>\n",
       "      <td>NaN</td>\n",
       "      <td>&lt;p&gt;Beginning May 7, 2015, the Merchant’s House...</td>\n",
       "      <td>Beginning May 7, 2015, the Merchant’s House Mu...</td>\n",
       "      <td>(212) 777-1089</td>\n",
       "      <td>emily@merchantshouse.org</td>\n",
       "      <td>0</td>\n",
       "      <td>Admission is $10, $5 seniors &amp; students, Free ...</td>\n",
       "      <td>0</td>\n",
       "      <td>thursday-evening-hours-at-the-merchants-house-...</td>\n",
       "      <td>0</td>\n",
       "    </tr>\n",
       "  </tbody>\n",
       "</table>\n",
       "</div>"
      ],
      "text/plain": [
       "       event_id                                              title       date  \\\n",
       "26877    107941                     Conference House Art Expo 2017 2017-05-20   \n",
       "27651    108867  Thursday Evening Hours at the Merchant’s House... 2017-01-05   \n",
       "27652    108868  Thursday Evening Hours at the Merchant’s House... 2017-01-12   \n",
       "27653    108869  Thursday Evening Hours at the Merchant’s House... 2017-01-19   \n",
       "27654    108870  Thursday Evening Hours at the Merchant’s House... 2017-01-26   \n",
       "\n",
       "               start_time            end_time location_description  \\\n",
       "26877 1900-01-01 11:00:00 1900-01-01 17:00:00                  NaN   \n",
       "27651 1900-01-01 12:00:00 1900-01-01 20:00:00                  NaN   \n",
       "27652 1900-01-01 12:00:00 1900-01-01 20:00:00                  NaN   \n",
       "27653 1900-01-01 12:00:00 1900-01-01 20:00:00                  NaN   \n",
       "27654 1900-01-01 12:00:00 1900-01-01 20:00:00                  NaN   \n",
       "\n",
       "                                             description  \\\n",
       "26877  <p>Come view original artworks and tree instal...   \n",
       "27651  <p>Beginning May 7, 2015, the Merchant’s House...   \n",
       "27652  <p>Beginning May 7, 2015, the Merchant’s House...   \n",
       "27653  <p>Beginning May 7, 2015, the Merchant’s House...   \n",
       "27654  <p>Beginning May 7, 2015, the Merchant’s House...   \n",
       "\n",
       "                                                 snippet           phone  \\\n",
       "26877  Come view original artworks and tree installat...  (718) 984-6046   \n",
       "27651  Beginning May 7, 2015, the Merchant’s House Mu...  (212) 777-1089   \n",
       "27652  Beginning May 7, 2015, the Merchant’s House Mu...  (212) 777-1089   \n",
       "27653  Beginning May 7, 2015, the Merchant’s House Mu...  (212) 777-1089   \n",
       "27654  Beginning May 7, 2015, the Merchant’s House Mu...  (212) 777-1089   \n",
       "\n",
       "                           email  cost_free  \\\n",
       "26877  admin@conferencehouse.org          1   \n",
       "27651   emily@merchantshouse.org          0   \n",
       "27652   emily@merchantshouse.org          0   \n",
       "27653   emily@merchantshouse.org          0   \n",
       "27654   emily@merchantshouse.org          0   \n",
       "\n",
       "                                        cost_description  must_see  \\\n",
       "26877                                                NaN         0   \n",
       "27651  Admission is $10, $5 seniors & students, Free ...         0   \n",
       "27652  Admission is $10, $5 seniors & students, Free ...         0   \n",
       "27653  Admission is $10, $5 seniors & students, Free ...         0   \n",
       "27654  Admission is $10, $5 seniors & students, Free ...         0   \n",
       "\n",
       "                                                     url  notice  \n",
       "26877                            resiliency-and-elements       0  \n",
       "27651  thursday-evening-hours-at-the-merchants-house-...       0  \n",
       "27652  thursday-evening-hours-at-the-merchants-house-...       0  \n",
       "27653  thursday-evening-hours-at-the-merchants-house-...       0  \n",
       "27654  thursday-evening-hours-at-the-merchants-house-...       0  "
      ]
     },
     "execution_count": 11,
     "metadata": {},
     "output_type": "execute_result"
    }
   ],
   "source": [
    "agg_df.head()"
   ]
  },
  {
   "cell_type": "code",
   "execution_count": 12,
   "metadata": {},
   "outputs": [
    {
     "data": {
      "image/png": "[encoded data removed]",
      "text/plain": [
       "<Figure size 432x288 with 1 Axes>"
      ]
     },
     "metadata": {},
     "output_type": "display_data"
    }
   ],
   "source": [
    "plt.plot(agg_df.event_id);"
   ]
  },
  {
   "cell_type": "code",
   "execution_count": null,
   "metadata": {},
   "outputs": [],
   "source": []
  },
  {
   "cell_type": "code",
   "execution_count": 13,
   "metadata": {},
   "outputs": [],
   "source": [
    "loc_df = pd.read_csv('data/NYC_Parks_Events_Listing___Event_Locations.csv')"
   ]
  },
  {
   "cell_type": "code",
   "execution_count": 14,
   "metadata": {},
   "outputs": [
    {
     "data": {
      "text/html": [
       "<div>\n",
       "<style scoped>\n",
       "    .dataframe tbody tr th:only-of-type {\n",
       "        vertical-align: middle;\n",
       "    }\n",
       "\n",
       "    .dataframe tbody tr th {\n",
       "        vertical-align: top;\n",
       "    }\n",
       "\n",
       "    .dataframe thead th {\n",
       "        text-align: right;\n",
       "    }\n",
       "</style>\n",
       "<table border=\"1\" class=\"dataframe\">\n",
       "  <thead>\n",
       "    <tr style=\"text-align: right;\">\n",
       "      <th></th>\n",
       "      <th>event_id</th>\n",
       "      <th>name</th>\n",
       "      <th>park_id</th>\n",
       "      <th>lat</th>\n",
       "      <th>long</th>\n",
       "      <th>address</th>\n",
       "      <th>zip</th>\n",
       "      <th>borough</th>\n",
       "      <th>accessible</th>\n",
       "      <th>Location 1</th>\n",
       "    </tr>\n",
       "  </thead>\n",
       "  <tbody>\n",
       "    <tr>\n",
       "      <th>0</th>\n",
       "      <td>62223</td>\n",
       "      <td>Watson Building</td>\n",
       "      <td>X002</td>\n",
       "      <td>40.8624</td>\n",
       "      <td>-73.880501</td>\n",
       "      <td>NaN</td>\n",
       "      <td>NaN</td>\n",
       "      <td>X</td>\n",
       "      <td>NaN</td>\n",
       "      <td>(40.86240005493164000, -73.88050079345703000)</td>\n",
       "    </tr>\n",
       "    <tr>\n",
       "      <th>1</th>\n",
       "      <td>62224</td>\n",
       "      <td>Watson Building</td>\n",
       "      <td>X002</td>\n",
       "      <td>40.8624</td>\n",
       "      <td>-73.880501</td>\n",
       "      <td>NaN</td>\n",
       "      <td>NaN</td>\n",
       "      <td>X</td>\n",
       "      <td>NaN</td>\n",
       "      <td>(40.86240005493164000, -73.88050079345703000)</td>\n",
       "    </tr>\n",
       "    <tr>\n",
       "      <th>2</th>\n",
       "      <td>62225</td>\n",
       "      <td>Watson Building</td>\n",
       "      <td>X002</td>\n",
       "      <td>40.8624</td>\n",
       "      <td>-73.880501</td>\n",
       "      <td>NaN</td>\n",
       "      <td>NaN</td>\n",
       "      <td>X</td>\n",
       "      <td>NaN</td>\n",
       "      <td>(40.86240005493164000, -73.88050079345703000)</td>\n",
       "    </tr>\n",
       "    <tr>\n",
       "      <th>3</th>\n",
       "      <td>62226</td>\n",
       "      <td>Watson Building</td>\n",
       "      <td>X002</td>\n",
       "      <td>40.8624</td>\n",
       "      <td>-73.880501</td>\n",
       "      <td>NaN</td>\n",
       "      <td>NaN</td>\n",
       "      <td>X</td>\n",
       "      <td>NaN</td>\n",
       "      <td>(40.86240005493164000, -73.88050079345703000)</td>\n",
       "    </tr>\n",
       "    <tr>\n",
       "      <th>4</th>\n",
       "      <td>62227</td>\n",
       "      <td>Watson Building</td>\n",
       "      <td>X002</td>\n",
       "      <td>40.8624</td>\n",
       "      <td>-73.880501</td>\n",
       "      <td>NaN</td>\n",
       "      <td>NaN</td>\n",
       "      <td>X</td>\n",
       "      <td>NaN</td>\n",
       "      <td>(40.86240005493164000, -73.88050079345703000)</td>\n",
       "    </tr>\n",
       "  </tbody>\n",
       "</table>\n",
       "</div>"
      ],
      "text/plain": [
       "   event_id             name park_id      lat       long address  zip borough  \\\n",
       "0     62223  Watson Building    X002  40.8624 -73.880501     NaN  NaN       X   \n",
       "1     62224  Watson Building    X002  40.8624 -73.880501     NaN  NaN       X   \n",
       "2     62225  Watson Building    X002  40.8624 -73.880501     NaN  NaN       X   \n",
       "3     62226  Watson Building    X002  40.8624 -73.880501     NaN  NaN       X   \n",
       "4     62227  Watson Building    X002  40.8624 -73.880501     NaN  NaN       X   \n",
       "\n",
       "   accessible                                     Location 1  \n",
       "0         NaN  (40.86240005493164000, -73.88050079345703000)  \n",
       "1         NaN  (40.86240005493164000, -73.88050079345703000)  \n",
       "2         NaN  (40.86240005493164000, -73.88050079345703000)  \n",
       "3         NaN  (40.86240005493164000, -73.88050079345703000)  \n",
       "4         NaN  (40.86240005493164000, -73.88050079345703000)  "
      ]
     },
     "execution_count": 14,
     "metadata": {},
     "output_type": "execute_result"
    }
   ],
   "source": [
    "loc_df.head()"
   ]
  },
  {
   "cell_type": "code",
   "execution_count": 15,
   "metadata": {},
   "outputs": [
    {
     "data": {
      "text/plain": [
       "(87092, 10)"
      ]
     },
     "execution_count": 15,
     "metadata": {},
     "output_type": "execute_result"
    }
   ],
   "source": [
    "loc_df.shape"
   ]
  },
  {
   "cell_type": "code",
   "execution_count": 16,
   "metadata": {},
   "outputs": [
    {
     "data": {
      "text/plain": [
       "[<matplotlib.lines.Line2D at 0x7f04270fa630>]"
      ]
     },
     "execution_count": 16,
     "metadata": {},
     "output_type": "execute_result"
    },
    {
     "data": {
      "image/png": "[encoded data removed]",
      "text/plain": [
       "<Figure size 432x288 with 1 Axes>"
      ]
     },
     "metadata": {},
     "output_type": "display_data"
    }
   ],
   "source": [
    "plt.plot(loc_df.event_id)"
   ]
  },
  {
   "cell_type": "code",
   "execution_count": 17,
   "metadata": {},
   "outputs": [
    {
     "data": {
      "text/html": [
       "<div>\n",
       "<style scoped>\n",
       "    .dataframe tbody tr th:only-of-type {\n",
       "        vertical-align: middle;\n",
       "    }\n",
       "\n",
       "    .dataframe tbody tr th {\n",
       "        vertical-align: top;\n",
       "    }\n",
       "\n",
       "    .dataframe thead th {\n",
       "        text-align: right;\n",
       "    }\n",
       "</style>\n",
       "<table border=\"1\" class=\"dataframe\">\n",
       "  <thead>\n",
       "    <tr style=\"text-align: right;\">\n",
       "      <th></th>\n",
       "      <th>event_id</th>\n",
       "      <th>name</th>\n",
       "      <th>park_id</th>\n",
       "      <th>lat</th>\n",
       "      <th>long</th>\n",
       "      <th>address</th>\n",
       "      <th>zip</th>\n",
       "      <th>borough</th>\n",
       "      <th>accessible</th>\n",
       "      <th>Location 1</th>\n",
       "    </tr>\n",
       "  </thead>\n",
       "  <tbody>\n",
       "    <tr>\n",
       "      <th>37514</th>\n",
       "      <td>107941</td>\n",
       "      <td>Conference House Park Visitor Center</td>\n",
       "      <td>R006</td>\n",
       "      <td>40.502602</td>\n",
       "      <td>-74.251801</td>\n",
       "      <td>298 Satterlee Street</td>\n",
       "      <td>NaN</td>\n",
       "      <td>R</td>\n",
       "      <td>1.0</td>\n",
       "      <td>(40.50260162353500000, -74.25180053710900000)</td>\n",
       "    </tr>\n",
       "  </tbody>\n",
       "</table>\n",
       "</div>"
      ],
      "text/plain": [
       "       event_id                                  name park_id        lat  \\\n",
       "37514    107941  Conference House Park Visitor Center    R006  40.502602   \n",
       "\n",
       "            long               address  zip borough  accessible  \\\n",
       "37514 -74.251801  298 Satterlee Street  NaN       R         1.0   \n",
       "\n",
       "                                          Location 1  \n",
       "37514  (40.50260162353500000, -74.25180053710900000)  "
      ]
     },
     "execution_count": 17,
     "metadata": {},
     "output_type": "execute_result"
    }
   ],
   "source": [
    "loc_df[loc_df.event_id == 107941]"
   ]
  },
  {
   "cell_type": "code",
   "execution_count": 18,
   "metadata": {},
   "outputs": [
    {
     "data": {
      "text/html": [
       "<div>\n",
       "<style scoped>\n",
       "    .dataframe tbody tr th:only-of-type {\n",
       "        vertical-align: middle;\n",
       "    }\n",
       "\n",
       "    .dataframe tbody tr th {\n",
       "        vertical-align: top;\n",
       "    }\n",
       "\n",
       "    .dataframe thead th {\n",
       "        text-align: right;\n",
       "    }\n",
       "</style>\n",
       "<table border=\"1\" class=\"dataframe\">\n",
       "  <thead>\n",
       "    <tr style=\"text-align: right;\">\n",
       "      <th></th>\n",
       "      <th>event_id</th>\n",
       "      <th>name</th>\n",
       "      <th>park_id</th>\n",
       "      <th>lat</th>\n",
       "      <th>long</th>\n",
       "      <th>address</th>\n",
       "      <th>zip</th>\n",
       "      <th>borough</th>\n",
       "      <th>accessible</th>\n",
       "      <th>Location 1</th>\n",
       "    </tr>\n",
       "  </thead>\n",
       "  <tbody>\n",
       "    <tr>\n",
       "      <th>38358</th>\n",
       "      <td>108869</td>\n",
       "      <td>Merchant's House Museum</td>\n",
       "      <td>M318</td>\n",
       "      <td>40.727699</td>\n",
       "      <td>-73.992302</td>\n",
       "      <td>29 East 4th Street</td>\n",
       "      <td>10003.0</td>\n",
       "      <td>M</td>\n",
       "      <td>0.0</td>\n",
       "      <td>(40.72769927978515600, -73.99230194091797000)</td>\n",
       "    </tr>\n",
       "  </tbody>\n",
       "</table>\n",
       "</div>"
      ],
      "text/plain": [
       "       event_id                     name park_id        lat       long  \\\n",
       "38358    108869  Merchant's House Museum    M318  40.727699 -73.992302   \n",
       "\n",
       "                  address      zip borough  accessible  \\\n",
       "38358  29 East 4th Street  10003.0       M         0.0   \n",
       "\n",
       "                                          Location 1  \n",
       "38358  (40.72769927978515600, -73.99230194091797000)  "
      ]
     },
     "execution_count": 18,
     "metadata": {},
     "output_type": "execute_result"
    }
   ],
   "source": [
    "loc_df[loc_df.event_id == 108869]"
   ]
  },
  {
   "cell_type": "code",
   "execution_count": 19,
   "metadata": {},
   "outputs": [
    {
     "data": {
      "text/plain": [
       "<matplotlib.collections.PathCollection at 0x7f0427288dd8>"
      ]
     },
     "execution_count": 19,
     "metadata": {},
     "output_type": "execute_result"
    },
    {
     "data": {
      "image/png": "[encoded data removed]",
      "text/plain": [
       "<Figure size 432x288 with 1 Axes>"
      ]
     },
     "metadata": {},
     "output_type": "display_data"
    }
   ],
   "source": [
    "plt.scatter(loc_df.lat, loc_df.long)"
   ]
  },
  {
   "cell_type": "code",
   "execution_count": 20,
   "metadata": {},
   "outputs": [],
   "source": [
    "import random\n",
    "\n",
    "filename = \"data/2017_Green_Taxi_Trip_Data.csv\"\n",
    "n = sum(1 for line in open(filename)) - 1 #number of records in file (excludes header)\n",
    "s = 10000 #desired sample size\n",
    "skip = sorted(random.sample(range(1,n+1),n-s)) #the 0-indexed header will not be included in the skip list\n",
    "taxi_df = pd.read_csv(filename, skiprows=skip)"
   ]
  },
  {
   "cell_type": "code",
   "execution_count": 21,
   "metadata": {},
   "outputs": [],
   "source": [
    "# taxi_df = pd.read_csv('2017_Green_Taxi_Trip_Data.csv', nrows=10000)"
   ]
  },
  {
   "cell_type": "code",
   "execution_count": 22,
   "metadata": {},
   "outputs": [
    {
     "name": "stdout",
     "output_type": "stream",
     "text": [
      "<class 'pandas.core.frame.DataFrame'>\n",
      "RangeIndex: 10000 entries, 0 to 9999\n",
      "Data columns (total 19 columns):\n",
      "VendorID                 10000 non-null int64\n",
      "lpep_pickup_datetime     10000 non-null object\n",
      "lpep_dropoff_datetime    10000 non-null object\n",
      "store_and_fwd_flag       10000 non-null object\n",
      "RatecodeID               10000 non-null int64\n",
      "PULocationID             10000 non-null int64\n",
      "DOLocationID             10000 non-null int64\n",
      "passenger_count          10000 non-null int64\n",
      "trip_distance            10000 non-null float64\n",
      "fare_amount              10000 non-null float64\n",
      "extra                    10000 non-null float64\n",
      "mta_tax                  10000 non-null float64\n",
      "tip_amount               10000 non-null float64\n",
      "tolls_amount             10000 non-null float64\n",
      "ehail_fee                0 non-null float64\n",
      "improvement_surcharge    10000 non-null float64\n",
      "total_amount             10000 non-null float64\n",
      "payment_type             10000 non-null int64\n",
      "trip_type                10000 non-null int64\n",
      "dtypes: float64(9), int64(7), object(3)\n",
      "memory usage: 1.4+ MB\n"
     ]
    }
   ],
   "source": [
    "taxi_df.info()"
   ]
  },
  {
   "cell_type": "code",
   "execution_count": 23,
   "metadata": {},
   "outputs": [
    {
     "data": {
      "text/html": [
       "<div>\n",
       "<style scoped>\n",
       "    .dataframe tbody tr th:only-of-type {\n",
       "        vertical-align: middle;\n",
       "    }\n",
       "\n",
       "    .dataframe tbody tr th {\n",
       "        vertical-align: top;\n",
       "    }\n",
       "\n",
       "    .dataframe thead th {\n",
       "        text-align: right;\n",
       "    }\n",
       "</style>\n",
       "<table border=\"1\" class=\"dataframe\">\n",
       "  <thead>\n",
       "    <tr style=\"text-align: right;\">\n",
       "      <th></th>\n",
       "      <th>VendorID</th>\n",
       "      <th>lpep_pickup_datetime</th>\n",
       "      <th>lpep_dropoff_datetime</th>\n",
       "      <th>store_and_fwd_flag</th>\n",
       "      <th>RatecodeID</th>\n",
       "      <th>PULocationID</th>\n",
       "      <th>DOLocationID</th>\n",
       "      <th>passenger_count</th>\n",
       "      <th>trip_distance</th>\n",
       "      <th>fare_amount</th>\n",
       "      <th>extra</th>\n",
       "      <th>mta_tax</th>\n",
       "      <th>tip_amount</th>\n",
       "      <th>tolls_amount</th>\n",
       "      <th>ehail_fee</th>\n",
       "      <th>improvement_surcharge</th>\n",
       "      <th>total_amount</th>\n",
       "      <th>payment_type</th>\n",
       "      <th>trip_type</th>\n",
       "    </tr>\n",
       "  </thead>\n",
       "  <tbody>\n",
       "    <tr>\n",
       "      <th>0</th>\n",
       "      <td>2</td>\n",
       "      <td>01/01/2017 12:51:36 AM</td>\n",
       "      <td>01/01/2017 12:55:56 AM</td>\n",
       "      <td>N</td>\n",
       "      <td>1</td>\n",
       "      <td>25</td>\n",
       "      <td>52</td>\n",
       "      <td>1</td>\n",
       "      <td>0.98</td>\n",
       "      <td>5.0</td>\n",
       "      <td>0.5</td>\n",
       "      <td>0.5</td>\n",
       "      <td>1.58</td>\n",
       "      <td>0.00</td>\n",
       "      <td>NaN</td>\n",
       "      <td>0.3</td>\n",
       "      <td>7.88</td>\n",
       "      <td>1</td>\n",
       "      <td>1</td>\n",
       "    </tr>\n",
       "    <tr>\n",
       "      <th>1</th>\n",
       "      <td>2</td>\n",
       "      <td>01/01/2017 12:17:47 AM</td>\n",
       "      <td>01/01/2017 12:24:49 AM</td>\n",
       "      <td>N</td>\n",
       "      <td>1</td>\n",
       "      <td>260</td>\n",
       "      <td>82</td>\n",
       "      <td>1</td>\n",
       "      <td>1.96</td>\n",
       "      <td>8.0</td>\n",
       "      <td>0.5</td>\n",
       "      <td>0.5</td>\n",
       "      <td>0.00</td>\n",
       "      <td>0.00</td>\n",
       "      <td>NaN</td>\n",
       "      <td>0.3</td>\n",
       "      <td>9.30</td>\n",
       "      <td>2</td>\n",
       "      <td>1</td>\n",
       "    </tr>\n",
       "    <tr>\n",
       "      <th>2</th>\n",
       "      <td>1</td>\n",
       "      <td>01/01/2017 12:13:13 AM</td>\n",
       "      <td>01/01/2017 01:08:34 AM</td>\n",
       "      <td>N</td>\n",
       "      <td>5</td>\n",
       "      <td>80</td>\n",
       "      <td>265</td>\n",
       "      <td>1</td>\n",
       "      <td>46.00</td>\n",
       "      <td>0.0</td>\n",
       "      <td>0.0</td>\n",
       "      <td>0.0</td>\n",
       "      <td>45.00</td>\n",
       "      <td>5.54</td>\n",
       "      <td>NaN</td>\n",
       "      <td>0.0</td>\n",
       "      <td>50.54</td>\n",
       "      <td>1</td>\n",
       "      <td>2</td>\n",
       "    </tr>\n",
       "    <tr>\n",
       "      <th>3</th>\n",
       "      <td>2</td>\n",
       "      <td>01/01/2017 01:14:16 AM</td>\n",
       "      <td>01/01/2017 01:30:53 AM</td>\n",
       "      <td>N</td>\n",
       "      <td>1</td>\n",
       "      <td>80</td>\n",
       "      <td>160</td>\n",
       "      <td>2</td>\n",
       "      <td>4.60</td>\n",
       "      <td>15.5</td>\n",
       "      <td>0.5</td>\n",
       "      <td>0.5</td>\n",
       "      <td>1.20</td>\n",
       "      <td>0.00</td>\n",
       "      <td>NaN</td>\n",
       "      <td>0.3</td>\n",
       "      <td>18.00</td>\n",
       "      <td>1</td>\n",
       "      <td>1</td>\n",
       "    </tr>\n",
       "    <tr>\n",
       "      <th>4</th>\n",
       "      <td>2</td>\n",
       "      <td>01/01/2017 01:49:57 AM</td>\n",
       "      <td>01/01/2017 02:01:52 AM</td>\n",
       "      <td>N</td>\n",
       "      <td>1</td>\n",
       "      <td>61</td>\n",
       "      <td>25</td>\n",
       "      <td>1</td>\n",
       "      <td>2.55</td>\n",
       "      <td>10.5</td>\n",
       "      <td>0.5</td>\n",
       "      <td>0.5</td>\n",
       "      <td>0.00</td>\n",
       "      <td>0.00</td>\n",
       "      <td>NaN</td>\n",
       "      <td>0.3</td>\n",
       "      <td>11.80</td>\n",
       "      <td>2</td>\n",
       "      <td>1</td>\n",
       "    </tr>\n",
       "  </tbody>\n",
       "</table>\n",
       "</div>"
      ],
      "text/plain": [
       "   VendorID    lpep_pickup_datetime   lpep_dropoff_datetime  \\\n",
       "0         2  01/01/2017 12:51:36 AM  01/01/2017 12:55:56 AM   \n",
       "1         2  01/01/2017 12:17:47 AM  01/01/2017 12:24:49 AM   \n",
       "2         1  01/01/2017 12:13:13 AM  01/01/2017 01:08:34 AM   \n",
       "3         2  01/01/2017 01:14:16 AM  01/01/2017 01:30:53 AM   \n",
       "4         2  01/01/2017 01:49:57 AM  01/01/2017 02:01:52 AM   \n",
       "\n",
       "  store_and_fwd_flag  RatecodeID  PULocationID  DOLocationID  passenger_count  \\\n",
       "0                  N           1            25            52                1   \n",
       "1                  N           1           260            82                1   \n",
       "2                  N           5            80           265                1   \n",
       "3                  N           1            80           160                2   \n",
       "4                  N           1            61            25                1   \n",
       "\n",
       "   trip_distance  fare_amount  extra  mta_tax  tip_amount  tolls_amount  \\\n",
       "0           0.98          5.0    0.5      0.5        1.58          0.00   \n",
       "1           1.96          8.0    0.5      0.5        0.00          0.00   \n",
       "2          46.00          0.0    0.0      0.0       45.00          5.54   \n",
       "3           4.60         15.5    0.5      0.5        1.20          0.00   \n",
       "4           2.55         10.5    0.5      0.5        0.00          0.00   \n",
       "\n",
       "   ehail_fee  improvement_surcharge  total_amount  payment_type  trip_type  \n",
       "0        NaN                    0.3          7.88             1          1  \n",
       "1        NaN                    0.3          9.30             2          1  \n",
       "2        NaN                    0.0         50.54             1          2  \n",
       "3        NaN                    0.3         18.00             1          1  \n",
       "4        NaN                    0.3         11.80             2          1  "
      ]
     },
     "execution_count": 23,
     "metadata": {},
     "output_type": "execute_result"
    }
   ],
   "source": [
    "taxi_df.head()"
   ]
  },
  {
   "cell_type": "code",
   "execution_count": 24,
   "metadata": {},
   "outputs": [],
   "source": [
    "taxi_df['lpep_pickup_datetime'] = pd.to_datetime(taxi_df.lpep_pickup_datetime)"
   ]
  },
  {
   "cell_type": "code",
   "execution_count": 25,
   "metadata": {},
   "outputs": [
    {
     "data": {
      "image/png": "[encoded data removed]",
      "text/plain": [
       "<Figure size 432x288 with 1 Axes>"
      ]
     },
     "metadata": {},
     "output_type": "display_data"
    }
   ],
   "source": [
    "plt.hist(taxi_df.lpep_pickup_datetime.dt.month);"
   ]
  },
  {
   "cell_type": "code",
   "execution_count": 26,
   "metadata": {},
   "outputs": [],
   "source": [
    "import geopandas as gpd\n",
    "from shapely.geometry import Point\n",
    "import rtree"
   ]
  },
  {
   "cell_type": "code",
   "execution_count": 45,
   "metadata": {},
   "outputs": [
    {
     "data": {
      "text/html": [
       "<div>\n",
       "<style scoped>\n",
       "    .dataframe tbody tr th:only-of-type {\n",
       "        vertical-align: middle;\n",
       "    }\n",
       "\n",
       "    .dataframe tbody tr th {\n",
       "        vertical-align: top;\n",
       "    }\n",
       "\n",
       "    .dataframe thead th {\n",
       "        text-align: right;\n",
       "    }\n",
       "</style>\n",
       "<table border=\"1\" class=\"dataframe\">\n",
       "  <thead>\n",
       "    <tr style=\"text-align: right;\">\n",
       "      <th></th>\n",
       "      <th>zone</th>\n",
       "      <th>LocationID</th>\n",
       "      <th>borough</th>\n",
       "      <th>geometry</th>\n",
       "    </tr>\n",
       "  </thead>\n",
       "  <tbody>\n",
       "    <tr>\n",
       "      <th>0</th>\n",
       "      <td>Newark Airport</td>\n",
       "      <td>1</td>\n",
       "      <td>EWR</td>\n",
       "      <td>POLYGON ((-74.18445299999996 40.6949959999999,...</td>\n",
       "    </tr>\n",
       "    <tr>\n",
       "      <th>1</th>\n",
       "      <td>Jamaica Bay</td>\n",
       "      <td>2</td>\n",
       "      <td>Queens</td>\n",
       "      <td>(POLYGON ((-73.82337597260663 40.6389870471767...</td>\n",
       "    </tr>\n",
       "    <tr>\n",
       "      <th>2</th>\n",
       "      <td>Allerton/Pelham Gardens</td>\n",
       "      <td>3</td>\n",
       "      <td>Bronx</td>\n",
       "      <td>POLYGON ((-73.84792614099985 40.87134223399991...</td>\n",
       "    </tr>\n",
       "    <tr>\n",
       "      <th>3</th>\n",
       "      <td>Alphabet City</td>\n",
       "      <td>4</td>\n",
       "      <td>Manhattan</td>\n",
       "      <td>POLYGON ((-73.97177410965318 40.72582128133705...</td>\n",
       "    </tr>\n",
       "    <tr>\n",
       "      <th>4</th>\n",
       "      <td>Arden Heights</td>\n",
       "      <td>5</td>\n",
       "      <td>Staten Island</td>\n",
       "      <td>POLYGON ((-74.17421738099989 40.56256808599987...</td>\n",
       "    </tr>\n",
       "  </tbody>\n",
       "</table>\n",
       "</div>"
      ],
      "text/plain": [
       "                      zone  LocationID        borough  \\\n",
       "0           Newark Airport           1            EWR   \n",
       "1              Jamaica Bay           2         Queens   \n",
       "2  Allerton/Pelham Gardens           3          Bronx   \n",
       "3            Alphabet City           4      Manhattan   \n",
       "4            Arden Heights           5  Staten Island   \n",
       "\n",
       "                                            geometry  \n",
       "0  POLYGON ((-74.18445299999996 40.6949959999999,...  \n",
       "1  (POLYGON ((-73.82337597260663 40.6389870471767...  \n",
       "2  POLYGON ((-73.84792614099985 40.87134223399991...  \n",
       "3  POLYGON ((-73.97177410965318 40.72582128133705...  \n",
       "4  POLYGON ((-74.17421738099989 40.56256808599987...  "
      ]
     },
     "execution_count": 45,
     "metadata": {},
     "output_type": "execute_result"
    }
   ],
   "source": [
    "df = gpd.read_file('data/taxi_zones.shp').to_crs({'init': 'epsg:4326'})\n",
    "df = df.drop(['Shape_Area', 'Shape_Leng', 'OBJECTID'], axis=1)\n",
    "df.head()"
   ]
  },
  {
   "cell_type": "code",
   "execution_count": 53,
   "metadata": {},
   "outputs": [
    {
     "data": {
      "text/html": [
       "<div>\n",
       "<style scoped>\n",
       "    .dataframe tbody tr th:only-of-type {\n",
       "        vertical-align: middle;\n",
       "    }\n",
       "\n",
       "    .dataframe tbody tr th {\n",
       "        vertical-align: top;\n",
       "    }\n",
       "\n",
       "    .dataframe thead th {\n",
       "        text-align: right;\n",
       "    }\n",
       "</style>\n",
       "<table border=\"1\" class=\"dataframe\">\n",
       "  <thead>\n",
       "    <tr style=\"text-align: right;\">\n",
       "      <th></th>\n",
       "      <th>geometry</th>\n",
       "      <th>index_right</th>\n",
       "      <th>zone</th>\n",
       "      <th>LocationID</th>\n",
       "      <th>borough</th>\n",
       "    </tr>\n",
       "  </thead>\n",
       "  <tbody>\n",
       "    <tr>\n",
       "      <th>0</th>\n",
       "      <td>POINT (-73.97177555 40.7288888)</td>\n",
       "      <td>223</td>\n",
       "      <td>Stuy Town/Peter Cooper Village</td>\n",
       "      <td>224</td>\n",
       "      <td>Manhattan</td>\n",
       "    </tr>\n",
       "  </tbody>\n",
       "</table>\n",
       "</div>"
      ],
      "text/plain": [
       "                          geometry  index_right  \\\n",
       "0  POINT (-73.97177555 40.7288888)          223   \n",
       "\n",
       "                             zone  LocationID    borough  \n",
       "0  Stuy Town/Peter Cooper Village         224  Manhattan  "
      ]
     },
     "execution_count": 53,
     "metadata": {},
     "output_type": "execute_result"
    }
   ],
   "source": [
    "gpd.sjoin(gpd.GeoDataFrame(crs={'init': 'epsg:4326'},\n",
    "    geometry=[Point(-73.97177555, 40.7288888)]), \n",
    "    df, how='left', op='within')"
   ]
  },
  {
   "cell_type": "code",
   "execution_count": 31,
   "metadata": {},
   "outputs": [],
   "source": [
    "def assign_taxi_zones(df, lon_var, lat_var, locid_var):\n",
    "    \"\"\"Joins DataFrame with Taxi Zones shapefile.\n",
    "    This function takes longitude values provided by `lon_var`, and latitude\n",
    "    values provided by `lat_var` in DataFrame `df`, and performs a spatial join\n",
    "    with the NYC taxi_zones shapefile. \n",
    "    The shapefile is hard coded in, as this function makes a hard assumption of\n",
    "    latitude and longitude coordinates. It also assumes latitude=0 and \n",
    "    longitude=0 is not a datapoint that can exist in your dataset. Which is \n",
    "    reasonable for a dataset of New York, but bad for a global dataset.\n",
    "    Only rows where `df.lon_var`, `df.lat_var` are reasonably near New York,\n",
    "    and `df.locid_var` is set to np.nan are updated. \n",
    "    Parameters\n",
    "    ----------\n",
    "    df : pandas.DataFrame or dask.DataFrame\n",
    "        DataFrame containing latitudes, longitudes, and location_id columns.\n",
    "    lon_var : string\n",
    "        Name of column in `df` containing longitude values. Invalid values \n",
    "        should be np.nan.\n",
    "    lat_var : string\n",
    "        Name of column in `df` containing latitude values. Invalid values \n",
    "        should be np.nan\n",
    "    locid_var : string\n",
    "        Name of series to return. \n",
    "    \"\"\"\n",
    "\n",
    "    import geopandas\n",
    "    from shapely.geometry import Point\n",
    "\n",
    "\n",
    "    # make a copy since we will modify lats and lons\n",
    "    localdf = df[[lon_var, lat_var]].copy()\n",
    "    \n",
    "    # missing lat lon info is indicated by nan. Fill with zero\n",
    "    # which is outside New York shapefile. \n",
    "    localdf[lon_var] = localdf[lon_var].fillna(value=0.)\n",
    "    localdf[lat_var] = localdf[lat_var].fillna(value=0.)\n",
    "    \n",
    "\n",
    "    shape_df = geopandas.read_file('data/taxi_zones.shp')\n",
    "    shape_df.drop(['OBJECTID', \"Shape_Area\", \"Shape_Leng\", \"borough\", \"zone\"],\n",
    "                  axis=1, inplace=True)\n",
    "    shape_df = shape_df.to_crs({'init': 'epsg:4326'})\n",
    "\n",
    "    try:\n",
    "        local_gdf = geopandas.GeoDataFrame(\n",
    "            localdf, crs={'init': 'epsg:4326'},\n",
    "            geometry=[Point(xy) for xy in\n",
    "                      zip(localdf[lon_var], localdf[lat_var])])\n",
    "\n",
    "        local_gdf = geopandas.sjoin(\n",
    "            local_gdf, shape_df, how='left', op='within')\n",
    "\n",
    "        return local_gdf.LocationID.rename(locid_var)\n",
    "    except ValueError as ve:\n",
    "        print(ve)\n",
    "        print(ve.stacktrace())\n",
    "        series = localdf[lon_var]\n",
    "        series = np.nan\n",
    "    return series"
   ]
  },
  {
   "cell_type": "code",
   "execution_count": 32,
   "metadata": {},
   "outputs": [],
   "source": [
    "result = np.zeros(87092)"
   ]
  },
  {
   "cell_type": "code",
   "execution_count": 35,
   "metadata": {},
   "outputs": [],
   "source": [
    "result = assign_taxi_zones(loc_df, 'lat', 'long', 'result')"
   ]
  },
  {
   "cell_type": "code",
   "execution_count": 37,
   "metadata": {},
   "outputs": [],
   "source": [
    "test = pd.DataFrame(result)"
   ]
  },
  {
   "cell_type": "code",
   "execution_count": null,
   "metadata": {},
   "outputs": [],
   "source": []
  }
 ],
 "metadata": {
  "kernelspec": {
   "display_name": "Python 3",
   "language": "python",
   "name": "python3"
  },
  "language_info": {
   "codemirror_mode": {
    "name": "ipython",
    "version": 3
   },
   "file_extension": ".py",
   "mimetype": "text/x-python",
   "name": "python",
   "nbconvert_exporter": "python",
   "pygments_lexer": "ipython3",
   "version": "3.6.4"
  }
 },
 "nbformat": 4,
 "nbformat_minor": 2
}
